{
  "nbformat": 4,
  "nbformat_minor": 0,
  "metadata": {
    "colab": {
      "provenance": [],
      "toc_visible": true,
      "authorship_tag": "ABX9TyPgIzFgvoEgT3V2DuP2Tw1h",
      "include_colab_link": true
    },
    "kernelspec": {
      "name": "python3",
      "display_name": "Python 3"
    },
    "language_info": {
      "name": "python"
    }
  },
  "cells": [
    {
      "cell_type": "markdown",
      "metadata": {
        "id": "view-in-github",
        "colab_type": "text"
      },
      "source": [
        "<a href=\"https://colab.research.google.com/github/Vicysaragih/Belajar-Python/blob/main/Belajar_Python_1_Okt_2023.ipynb\" target=\"_parent\"><img src=\"https://colab.research.google.com/assets/colab-badge.svg\" alt=\"Open In Colab\"/></a>"
      ]
    },
    {
      "cell_type": "markdown",
      "source": [
        "**MENGAMBIL INPUT DATA DARI USER**"
      ],
      "metadata": {
        "id": "SdqR6tJY54Pt"
      }
    },
    {
      "cell_type": "code",
      "execution_count": 3,
      "metadata": {
        "colab": {
          "base_uri": "https://localhost:8080/"
        },
        "id": "Gt50lyd45W1U",
        "outputId": "9698b258-0ebb-47fd-f7c7-e2159f56bf61"
      },
      "outputs": [
        {
          "name": "stdout",
          "output_type": "stream",
          "text": [
            "Masukan data: Saragih\n"
          ]
        }
      ],
      "source": [
        "#Input User\n",
        "\n",
        "data = input(\"Masukan data: \")"
      ]
    },
    {
      "cell_type": "code",
      "source": [
        "print(\"data = \", data,\", type =\", type(data))"
      ],
      "metadata": {
        "colab": {
          "base_uri": "https://localhost:8080/"
        },
        "id": "UZ4WUdRv6HrT",
        "outputId": "a51764bd-03f8-4dc2-fd4c-40f8b55e89e2"
      },
      "execution_count": 4,
      "outputs": [
        {
          "output_type": "stream",
          "name": "stdout",
          "text": [
            "data =  Saragih , type = <class 'str'>\n"
          ]
        }
      ]
    },
    {
      "cell_type": "code",
      "source": [
        "data_int = int(input(\"Masukan angka: \"))\n",
        "\n",
        "print(\"data = \", data_int,\", type =\", type(data_int))"
      ],
      "metadata": {
        "colab": {
          "base_uri": "https://localhost:8080/"
        },
        "id": "09PZLe1S7RDQ",
        "outputId": "85a98f64-1fc4-4c8a-8c8e-0062948111a9"
      },
      "execution_count": 6,
      "outputs": [
        {
          "output_type": "stream",
          "name": "stdout",
          "text": [
            "Masukan angka: 13\n",
            "data =  13 , type = <class 'int'>\n"
          ]
        }
      ]
    },
    {
      "cell_type": "code",
      "source": [
        "biner = bool(input(\"Masukan Boolean: \"))\n",
        "\n",
        "print(\"data = \", biner,\", type =\", type(biner))"
      ],
      "metadata": {
        "colab": {
          "base_uri": "https://localhost:8080/"
        },
        "id": "QATfSEVy8VeA",
        "outputId": "0e9f1d40-6e40-49d6-f179-80334a7ec04e"
      },
      "execution_count": 10,
      "outputs": [
        {
          "output_type": "stream",
          "name": "stdout",
          "text": [
            "Masukan Boolean: False\n",
            "data =  True , type = <class 'bool'>\n"
          ]
        }
      ]
    },
    {
      "cell_type": "markdown",
      "source": [
        "**ARITMATIKA**\n"
      ],
      "metadata": {
        "id": "0QaYDa0k-HTU"
      }
    },
    {
      "cell_type": "code",
      "source": [
        " #Penjumlahan\n",
        "a = 5\n",
        "b = 9\n",
        "\n",
        "hasil = a + b\n",
        "\n",
        "print(a, \"+\", b, \"=\", hasil)"
      ],
      "metadata": {
        "colab": {
          "base_uri": "https://localhost:8080/"
        },
        "id": "gCXvYiYs-LFw",
        "outputId": "3b12074b-ba79-47a4-97d2-a1f7f695bfef"
      },
      "execution_count": 11,
      "outputs": [
        {
          "output_type": "stream",
          "name": "stdout",
          "text": [
            "5 + 9 = 14\n"
          ]
        }
      ]
    },
    {
      "cell_type": "code",
      "source": [
        " #Pengurangan\n",
        "a = 5\n",
        "b = 9\n",
        "\n",
        "hasil = a - b\n",
        "\n",
        "print(a, \"+\", b, \"=\", hasil)"
      ],
      "metadata": {
        "colab": {
          "base_uri": "https://localhost:8080/"
        },
        "id": "bvP2TvVk-ecW",
        "outputId": "920f5499-d4ef-45a3-9525-256a65b26a09"
      },
      "execution_count": 12,
      "outputs": [
        {
          "output_type": "stream",
          "name": "stdout",
          "text": [
            "5 + 9 = -4\n"
          ]
        }
      ]
    },
    {
      "cell_type": "markdown",
      "source": [
        "**PERHITUNGAN SEDERHANA**"
      ],
      "metadata": {
        "id": "bpZZ_-XZADzL"
      }
    },
    {
      "cell_type": "code",
      "source": [
        "print(\"\\nPerhitungan Komparasi Sederhana\\n\")"
      ],
      "metadata": {
        "colab": {
          "base_uri": "https://localhost:8080/"
        },
        "id": "w9Xo6UvxAHmx",
        "outputId": "31ee7ce2-07d4-4a0a-b39d-bc731bc69fed"
      },
      "execution_count": 19,
      "outputs": [
        {
          "output_type": "stream",
          "name": "stdout",
          "text": [
            "\n",
            "Perhitungan Komparasi Sederhana\n",
            "\n"
          ]
        }
      ]
    },
    {
      "cell_type": "code",
      "source": [
        "Celcius = float(input(\"Masukan suhu dalam Celcius\"))\n",
        "\n",
        "print(\"suhu adalah :\", Celcius, \"Celcius\")"
      ],
      "metadata": {
        "colab": {
          "base_uri": "https://localhost:8080/"
        },
        "id": "hfRa9MzUAs3r",
        "outputId": "73150dae-6573-4275-a152-fab62ec02434"
      },
      "execution_count": 25,
      "outputs": [
        {
          "output_type": "stream",
          "name": "stdout",
          "text": [
            "Masukan suhu dalam Celcius 90\n",
            "suhu adalah : 90.0 Celcius\n"
          ]
        }
      ]
    },
    {
      "cell_type": "code",
      "source": [
        "Reamur = (4/5) * Celcius\n",
        "\n",
        "print(\"suhu adalah :\", Reamur, \"Reamur\")"
      ],
      "metadata": {
        "colab": {
          "base_uri": "https://localhost:8080/"
        },
        "id": "Om_IdFSFBVag",
        "outputId": "ebb51b50-5b37-4206-fe0b-b6bdb703d8df"
      },
      "execution_count": 26,
      "outputs": [
        {
          "output_type": "stream",
          "name": "stdout",
          "text": [
            "suhu adalah : 72.0 Reamur\n"
          ]
        }
      ]
    },
    {
      "cell_type": "code",
      "source": [
        "Kelvin = Celcius + 273\n",
        "\n",
        "print(\"suhu adalah :\", Kelvin, \"Kelvin\")"
      ],
      "metadata": {
        "colab": {
          "base_uri": "https://localhost:8080/"
        },
        "id": "wq2nwFfvBlSP",
        "outputId": "09ee2110-8f18-414e-ad74-4280d57d4f0a"
      },
      "execution_count": 28,
      "outputs": [
        {
          "output_type": "stream",
          "name": "stdout",
          "text": [
            "suhu adalah : 363.0 Kelvin\n"
          ]
        }
      ]
    }
  ]
}