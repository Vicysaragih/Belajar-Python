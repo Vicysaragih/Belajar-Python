{
  "nbformat": 4,
  "nbformat_minor": 0,
  "metadata": {
    "colab": {
      "provenance": [],
      "authorship_tag": "ABX9TyOzpuPf/RQEEBMSY95mtJUy",
      "include_colab_link": true
    },
    "kernelspec": {
      "name": "python3",
      "display_name": "Python 3"
    },
    "language_info": {
      "name": "python"
    }
  },
  "cells": [
    {
      "cell_type": "markdown",
      "metadata": {
        "id": "view-in-github",
        "colab_type": "text"
      },
      "source": [
        "<a href=\"https://colab.research.google.com/github/Vicysaragih/Belajar-Python/blob/main/belajar_Python_15_Oktober_2023.ipynb\" target=\"_parent\"><img src=\"https://colab.research.google.com/assets/colab-badge.svg\" alt=\"Open In Colab\"/></a>"
      ]
    },
    {
      "cell_type": "markdown",
      "source": [
        "**IF & ELSE Statement**"
      ],
      "metadata": {
        "id": "2dJ80EqS2XdC"
      }
    },
    {
      "cell_type": "code",
      "execution_count": 9,
      "metadata": {
        "colab": {
          "base_uri": "https://localhost:8080/"
        },
        "id": "WoOBtNL52Q6j",
        "outputId": "9a276c87-2269-49ad-e1a2-599d23fbf9cc"
      },
      "outputs": [
        {
          "name": "stdout",
          "output_type": "stream",
          "text": [
            "Siapa nama anda?Saragih\n"
          ]
        }
      ],
      "source": [
        "nama = input(\"Siapa nama anda?\")\n",
        "\n"
      ]
    },
    {
      "cell_type": "code",
      "source": [
        "  #Program IF inline\n",
        "  if nama == \"Vicy\" : print(\"Horas Bro\")\n",
        " print(f\"Lewat {nama}\")"
      ],
      "metadata": {
        "colab": {
          "base_uri": "https://localhost:8080/"
        },
        "id": "_wo7KRkS4pf5",
        "outputId": "8aeb00f8-801f-4f74-9776-2eeb6a1d342a"
      },
      "execution_count": 6,
      "outputs": [
        {
          "output_type": "stream",
          "name": "stdout",
          "text": [
            "Horas Bro\n",
            "Lewat Vicy\n"
          ]
        }
      ]
    },
    {
      "cell_type": "code",
      "source": [
        "# 2. Prgram IF Indentation\n",
        "if nama == \"Vicy\" :\n",
        "    print(\"Horas Bro\")\n",
        "    print(\"Yoi\")\n",
        "print(f\"Lewat {nama}\")\n"
      ],
      "metadata": {
        "colab": {
          "base_uri": "https://localhost:8080/"
        },
        "id": "7YMW_R9n5MXh",
        "outputId": "4b63c7f3-c319-49c2-a7d0-a3d7e48ad8c5"
      },
      "execution_count": 7,
      "outputs": [
        {
          "output_type": "stream",
          "name": "stdout",
          "text": [
            "Horas Bro\n",
            "Yoi\n",
            "Lewat Vicy\n"
          ]
        }
      ]
    },
    {
      "cell_type": "code",
      "source": [
        "if nama == \"Vicy\" :\n",
        "    print(\"Horas Bro\")\n",
        "else:\n",
        "    print(\"Skipp !!\")\n",
        "print(f\"Lewat {nama}\")"
      ],
      "metadata": {
        "colab": {
          "base_uri": "https://localhost:8080/"
        },
        "id": "p8kudrOH6OXR",
        "outputId": "db3c08f4-224d-4a88-c07f-91ac00c3fb95"
      },
      "execution_count": 10,
      "outputs": [
        {
          "output_type": "stream",
          "name": "stdout",
          "text": [
            "Skipp !!\n",
            "Lewat Saragih\n"
          ]
        }
      ]
    },
    {
      "cell_type": "code",
      "source": [
        "if nama == \"Vicy\" :\n",
        "    print(\"Horas Bro\")\n",
        "elif nama == \"Saragih\":\n",
        "    print(\"Keep spirit\")\n",
        "else:\n",
        "    print(\"Skipp !!\")\n",
        "print(f\"Lewat {nama}\")"
      ],
      "metadata": {
        "colab": {
          "base_uri": "https://localhost:8080/"
        },
        "id": "7uSsQmylBL26",
        "outputId": "3e90ae33-5fc2-4514-cf94-956cb2c5943e"
      },
      "execution_count": 12,
      "outputs": [
        {
          "output_type": "stream",
          "name": "stdout",
          "text": [
            "Keep spirit\n",
            "Lewat Saragih\n"
          ]
        }
      ]
    },
    {
      "cell_type": "markdown",
      "source": [
        "**LOOP**"
      ],
      "metadata": {
        "id": "Xj3qefo1LqLg"
      }
    },
    {
      "cell_type": "code",
      "source": [
        "angka = 1\n",
        "\n",
        "angka = angka + 1\n",
        "print (angka)"
      ],
      "metadata": {
        "colab": {
          "base_uri": "https://localhost:8080/"
        },
        "id": "FP105zuiLsrU",
        "outputId": "19d8ad53-3c37-4b25-a1b1-df70f6c8ebeb"
      },
      "execution_count": 1,
      "outputs": [
        {
          "output_type": "stream",
          "name": "stdout",
          "text": [
            "2\n"
          ]
        }
      ]
    },
    {
      "cell_type": "code",
      "source": [
        "#for kondisi:\n",
        "#  aksi\n",
        "\n",
        "for i in range(4):\n",
        "  print(i)"
      ],
      "metadata": {
        "colab": {
          "base_uri": "https://localhost:8080/"
        },
        "id": "6FHgFTKhMLXP",
        "outputId": "d71e0a69-8075-4020-98a4-cbb8597a2e53"
      },
      "execution_count": 4,
      "outputs": [
        {
          "output_type": "stream",
          "name": "stdout",
          "text": [
            "0\n",
            "1\n",
            "2\n",
            "3\n"
          ]
        }
      ]
    },
    {
      "cell_type": "code",
      "source": [
        "angka = [0, 1, 2, 3]  # Ini adalah list\n",
        "print(angka)\n",
        "\n",
        "for i in angka:\n",
        "  print(f\" sekarang  --> {i}\")\n",
        "\n",
        "print(\"Ini adalah akhir dari program\")"
      ],
      "metadata": {
        "colab": {
          "base_uri": "https://localhost:8080/"
        },
        "id": "myqNtF8eM5JQ",
        "outputId": "1accede8-5219-4b38-a0d8-f45410fa4ee7"
      },
      "execution_count": 7,
      "outputs": [
        {
          "output_type": "stream",
          "name": "stdout",
          "text": [
            "[0, 1, 2, 3]\n",
            " sekarang  --> 0\n",
            " sekarang  --> 1\n",
            " sekarang  --> 2\n",
            " sekarang  --> 3\n",
            "Ini adalah akhir dari program\n"
          ]
        }
      ]
    },
    {
      "cell_type": "code",
      "source": [
        "angka = range(2, 8)  # Ini adalah range\n",
        "\n",
        "\n",
        "for i in angka:\n",
        "  print(f\" sekarang  --> {i}\")\n",
        "\n",
        "print(\"Ini adalah akhir dari program\")"
      ],
      "metadata": {
        "colab": {
          "base_uri": "https://localhost:8080/"
        },
        "id": "D-Hu69XdOscb",
        "outputId": "c60f1c18-4d41-4684-f040-9930accbbf2a"
      },
      "execution_count": 8,
      "outputs": [
        {
          "output_type": "stream",
          "name": "stdout",
          "text": [
            " sekarang  --> 2\n",
            " sekarang  --> 3\n",
            " sekarang  --> 4\n",
            " sekarang  --> 5\n",
            " sekarang  --> 6\n",
            " sekarang  --> 7\n",
            "Ini adalah akhir dari program\n"
          ]
        }
      ]
    },
    {
      "cell_type": "code",
      "source": [
        "angka = range(2, 8)  # Ini adalah range\n",
        "\n",
        "\n",
        "for i in angka:\n",
        "  print(\"Horas !!!\")\n",
        "\n",
        "print(\"Ini adalah akhir dari program\")"
      ],
      "metadata": {
        "colab": {
          "base_uri": "https://localhost:8080/"
        },
        "id": "yl5jk43xO8v2",
        "outputId": "e17dd0dc-e35a-4b12-fff8-1d73b6a12e14"
      },
      "execution_count": 10,
      "outputs": [
        {
          "output_type": "stream",
          "name": "stdout",
          "text": [
            "Horas !!!\n",
            "Horas !!!\n",
            "Horas !!!\n",
            "Horas !!!\n",
            "Horas !!!\n",
            "Horas !!!\n",
            "Ini adalah akhir dari program\n"
          ]
        }
      ]
    },
    {
      "cell_type": "code",
      "source": [
        " # String\n",
        " data_str = \"Horas\"  # Ini adalah String\n",
        "\n",
        "\n",
        "for huruf in data_str:\n",
        "  print(f\"Huruf {huruf}\")\n",
        "\n",
        "print(\"Ini adalah akhir dari program\")"
      ],
      "metadata": {
        "colab": {
          "base_uri": "https://localhost:8080/"
        },
        "id": "vLoRxdjRPR7f",
        "outputId": "5c843b6d-20ab-49ce-e62e-328a781187a8"
      },
      "execution_count": 12,
      "outputs": [
        {
          "output_type": "stream",
          "name": "stdout",
          "text": [
            "Huruf H\n",
            "Huruf o\n",
            "Huruf r\n",
            "Huruf a\n",
            "Huruf s\n",
            "Ini adalah akhir dari program\n"
          ]
        }
      ]
    },
    {
      "cell_type": "markdown",
      "source": [
        "**WHILE LOOP**"
      ],
      "metadata": {
        "id": "87mawk6jQsrr"
      }
    },
    {
      "cell_type": "code",
      "source": [
        "Angka = 0\n",
        "\n",
        "while Angka < 5:\n",
        "  Angka += 1\n",
        "  print(\"Horas Simalungun\")\n",
        "\n",
        "print (\"Cukupp\")\n"
      ],
      "metadata": {
        "colab": {
          "base_uri": "https://localhost:8080/"
        },
        "id": "euuJEVNwQwYM",
        "outputId": "0c844b61-8350-4899-98fd-073c731f3ba0"
      },
      "execution_count": 17,
      "outputs": [
        {
          "output_type": "stream",
          "name": "stdout",
          "text": [
            "Horas Simalungun\n",
            "Horas Simalungun\n",
            "Horas Simalungun\n",
            "Horas Simalungun\n",
            "Horas Simalungun\n",
            "Cukupp\n"
          ]
        }
      ]
    },
    {
      "cell_type": "code",
      "source": [
        "Angka = 0\n",
        "print(f\"Angka Sekarang --> {Angka}\")\n",
        "\n",
        "while Angka < 5:\n",
        "  Angka += 1\n",
        "  print(f\"Angka Sekarang --> {Angka}\")\n",
        "  print(\"Horas Simalungun !!\")\n",
        "\n",
        "print (\"Cukupp\")\n"
      ],
      "metadata": {
        "colab": {
          "base_uri": "https://localhost:8080/"
        },
        "id": "2h0JdSQGRnMT",
        "outputId": "788ab189-286e-4e18-bd05-ea6f45c44fbf"
      },
      "execution_count": 19,
      "outputs": [
        {
          "output_type": "stream",
          "name": "stdout",
          "text": [
            "Angka Sekarang --> 0\n",
            "Angka Sekarang --> 1\n",
            "Horas Simalungun !!\n",
            "Angka Sekarang --> 2\n",
            "Horas Simalungun !!\n",
            "Angka Sekarang --> 3\n",
            "Horas Simalungun !!\n",
            "Angka Sekarang --> 4\n",
            "Horas Simalungun !!\n",
            "Angka Sekarang --> 5\n",
            "Horas Simalungun !!\n",
            "Cukupp\n"
          ]
        }
      ]
    },
    {
      "cell_type": "markdown",
      "source": [
        "**Continue**"
      ],
      "metadata": {
        "id": "zBLEH_zdaSvK"
      }
    },
    {
      "cell_type": "code",
      "source": [
        " # Without Continue\n",
        "\n",
        " Angka = 0\n",
        "print(f\"Angka Sekarang --> {Angka}\")\n",
        "\n",
        "while Angka < 5:\n",
        "  Angka += 1\n",
        "  print(f\"Angka Sekarang --> {Angka}\")\n",
        "\n",
        "  if Angka == 3:\n",
        "    print(\"Bedaa !\")\n",
        "  print(\"Horas Simalungun !!\")\n",
        "\n",
        "print (\"Cukupp\")"
      ],
      "metadata": {
        "colab": {
          "base_uri": "https://localhost:8080/"
        },
        "id": "NKa5li-daWBj",
        "outputId": "5ef66405-37e2-46e9-d74e-71d662e96897"
      },
      "execution_count": 20,
      "outputs": [
        {
          "output_type": "stream",
          "name": "stdout",
          "text": [
            "Angka Sekarang --> 0\n",
            "Angka Sekarang --> 1\n",
            "Horas Simalungun !!\n",
            "Angka Sekarang --> 2\n",
            "Horas Simalungun !!\n",
            "Angka Sekarang --> 3\n",
            "Bedaa !\n",
            "Horas Simalungun !!\n",
            "Angka Sekarang --> 4\n",
            "Horas Simalungun !!\n",
            "Angka Sekarang --> 5\n",
            "Horas Simalungun !!\n",
            "Cukupp\n"
          ]
        }
      ]
    },
    {
      "cell_type": "code",
      "source": [
        " # With Continue\n",
        "\n",
        " Angka = 0\n",
        "print(f\"Angka Sekarang --> {Angka}\")\n",
        "\n",
        "while Angka < 5:\n",
        "  Angka += 1\n",
        "  print(f\"Angka Sekarang --> {Angka}\")\n",
        "\n",
        "  if Angka == 3:\n",
        "    print(\"Bedaa !\\n\")\n",
        "    continue  # Akan skipp\n",
        "\n",
        "\n",
        "  print(\"Horas Simalungun !!\")\n",
        "\n",
        "print (\"Cukupp\")"
      ],
      "metadata": {
        "colab": {
          "base_uri": "https://localhost:8080/"
        },
        "id": "d9yz0Isjav-y",
        "outputId": "3228e43f-b7cf-4599-b3b8-1f33eafad115"
      },
      "execution_count": 23,
      "outputs": [
        {
          "output_type": "stream",
          "name": "stdout",
          "text": [
            "Angka Sekarang --> 0\n",
            "Angka Sekarang --> 1\n",
            "Horas Simalungun !!\n",
            "Angka Sekarang --> 2\n",
            "Horas Simalungun !!\n",
            "Angka Sekarang --> 3\n",
            "Bedaa !\n",
            "\n",
            "Angka Sekarang --> 4\n",
            "Horas Simalungun !!\n",
            "Angka Sekarang --> 5\n",
            "Horas Simalungun !!\n",
            "Cukupp\n"
          ]
        }
      ]
    },
    {
      "cell_type": "markdown",
      "source": [
        "**BREAK**"
      ],
      "metadata": {
        "id": "5yKBAqReb6sO"
      }
    },
    {
      "cell_type": "code",
      "source": [
        "Angka = 0\n",
        "print(f\"Angka Sekarang --> {Angka}\")\n",
        "\n",
        "while Angka < 5:\n",
        "  Angka += 1\n",
        "  print(f\"Angka Sekarang --> {Angka}\")\n",
        "\n",
        "  if Angka == 3:\n",
        "    print(\"Bedaa !\\n\")\n",
        "    break\n",
        "\n",
        "\n",
        "  print(\"Horas Simalungun !!\")\n",
        "\n",
        "print (\"Cukupp\")"
      ],
      "metadata": {
        "colab": {
          "base_uri": "https://localhost:8080/"
        },
        "id": "NJZCJ8JCb94v",
        "outputId": "bebe8648-e4c4-4601-ea4e-5a55e6b2b055"
      },
      "execution_count": 25,
      "outputs": [
        {
          "output_type": "stream",
          "name": "stdout",
          "text": [
            "Angka Sekarang --> 0\n",
            "Angka Sekarang --> 1\n",
            "Horas Simalungun !!\n",
            "Angka Sekarang --> 2\n",
            "Horas Simalungun !!\n",
            "Angka Sekarang --> 3\n",
            "Bedaa !\n",
            "\n",
            "Cukupp\n"
          ]
        }
      ]
    }
  ]
}