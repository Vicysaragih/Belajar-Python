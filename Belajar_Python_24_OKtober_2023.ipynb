{
  "nbformat": 4,
  "nbformat_minor": 0,
  "metadata": {
    "colab": {
      "provenance": [],
      "authorship_tag": "ABX9TyOd+wY3MZBONqY64eb60oay",
      "include_colab_link": true
    },
    "kernelspec": {
      "name": "python3",
      "display_name": "Python 3"
    },
    "language_info": {
      "name": "python"
    }
  },
  "cells": [
    {
      "cell_type": "markdown",
      "metadata": {
        "id": "view-in-github",
        "colab_type": "text"
      },
      "source": [
        "<a href=\"https://colab.research.google.com/github/Vicysaragih/Belajar-Python/blob/main/Belajar_Python_24_OKtober_2023.ipynb\" target=\"_parent\"><img src=\"https://colab.research.google.com/assets/colab-badge.svg\" alt=\"Open In Colab\"/></a>"
      ]
    },
    {
      "cell_type": "markdown",
      "source": [
        "**EXCEPTION**"
      ],
      "metadata": {
        "id": "BI3FZxWzsWdk"
      }
    },
    {
      "cell_type": "code",
      "execution_count": null,
      "metadata": {
        "colab": {
          "base_uri": "https://localhost:8080/"
        },
        "id": "z66qkioXsSI0",
        "outputId": "3162a1cb-ec8f-49d0-eed4-5fb36f94da7f"
      },
      "outputs": [
        {
          "output_type": "stream",
          "name": "stdout",
          "text": [
            "Masukan Angka : 1\n",
            " Hasil = 10.0\n"
          ]
        }
      ],
      "source": [
        "input_user = int(input(\"Masukan Angka : \")) # input = 1\n",
        "hasil = 0\n",
        "\n",
        "try:\n",
        "  hasil = 10/input_user\n",
        "except:\n",
        "  print(\"Input tidak boleh 0\")\n",
        "\n",
        "print (f\" Hasil = {hasil}\")"
      ]
    },
    {
      "cell_type": "code",
      "source": [
        "input_user = int(input(\"Masukan Angka : \")) # input = 0\n",
        "hasil = 0\n",
        "\n",
        "try:\n",
        "  hasil = 10/input_user\n",
        "except:\n",
        "  print(\"Input tidak boleh 0\")\n",
        "\n",
        "print (f\"Hasil = {hasil}\")"
      ],
      "metadata": {
        "colab": {
          "base_uri": "https://localhost:8080/"
        },
        "id": "hUBEqxtFtP-H",
        "outputId": "e59bcd52-110e-4ae0-cf4b-a1d6a2aab497"
      },
      "execution_count": null,
      "outputs": [
        {
          "output_type": "stream",
          "name": "stdout",
          "text": [
            "Masukan Angka : 0\n",
            "Input tidak boleh 0\n",
            "Hasil = 0\n"
          ]
        }
      ]
    },
    {
      "cell_type": "code",
      "source": [
        "while(True):\n",
        "  angka = int(input(\"Masukan angka : \"))\n",
        "  try :\n",
        "    hasil = 10/angka\n",
        "    print(f\"Hasil = {hasil}\")\n",
        "    is_done = input(\"Lanjutkan (y/n)? \")\n",
        "    if is_done == \"n\":\n",
        "      break\n",
        "  except:\n",
        "    print(\"Pembagi nol, silahkan masukan input lagi!\")\n",
        "\n",
        "print(\"Ini adalah akhir dari program\")"
      ],
      "metadata": {
        "colab": {
          "base_uri": "https://localhost:8080/"
        },
        "id": "qMCPzHBIuTIs",
        "outputId": "41ef05a5-d689-4114-de52-13f4e9fcbd9b"
      },
      "execution_count": null,
      "outputs": [
        {
          "output_type": "stream",
          "name": "stdout",
          "text": [
            "Masukan angka : 7\n",
            "Hasil = 1.4285714285714286\n",
            "Lanjtkan (y/n)? y\n",
            "Masukan angka : 6\n",
            "Hasil = 1.6666666666666667\n",
            "Lanjtkan (y/n)? y\n",
            "Masukan angka : 0\n",
            "Pembagi nol, silahkan masukan input lagi!\n",
            "Masukan angka : 0\n",
            "Pembagi nol, silahkan masukan input lagi!\n",
            "Masukan angka : 5\n",
            "Hasil = 2.0\n",
            "Lanjtkan (y/n)? n\n",
            "Ini adalah akhir dari program\n"
          ]
        }
      ]
    },
    {
      "cell_type": "code",
      "source": [
        "# Contoh membuat Exception\n",
        "\n",
        "from numbers import Number\n",
        "\n",
        "def tambah(a, b):\n",
        "  if not isinstance(a, Number) or not isinstance(b, Number):\n",
        "    raise \"Input harus angka\"\n",
        "  return a+b\n",
        "\n",
        "print(tambah(5, 8))\n"
      ],
      "metadata": {
        "colab": {
          "base_uri": "https://localhost:8080/"
        },
        "id": "8bgauJyOjU_5",
        "outputId": "977f0fb0-30cf-4005-906d-3c62a080cdf4"
      },
      "execution_count": null,
      "outputs": [
        {
          "output_type": "stream",
          "name": "stdout",
          "text": [
            "13\n"
          ]
        }
      ]
    },
    {
      "cell_type": "code",
      "source": [
        "# Contoh membuat Exception\n",
        "\n",
        "from numbers import Number\n",
        "\n",
        "def tambah(a, b):\n",
        "  if not isinstance(a, Number) or not isinstance(b, Number):\n",
        "    raise \"Input harus angka\"\n",
        "  return a+b\n",
        "\n",
        "print(tambah(5, 8))\n",
        "\n",
        "angka = 0\n",
        "\n",
        "try :\n",
        "  hasil = 10/angka\n",
        "except Exception as error_message:\n",
        "  print(error_message)"
      ],
      "metadata": {
        "colab": {
          "base_uri": "https://localhost:8080/"
        },
        "id": "9JyDU8YblVTo",
        "outputId": "1bf29906-10bb-4050-8f31-62c1421436e2"
      },
      "execution_count": null,
      "outputs": [
        {
          "output_type": "stream",
          "name": "stdout",
          "text": [
            "13\n",
            "division by zero\n"
          ]
        }
      ]
    },
    {
      "cell_type": "markdown",
      "source": [
        "**Object Oriented Programming**"
      ],
      "metadata": {
        "id": "s6-c1-BcnylO"
      }
    },
    {
      "cell_type": "code",
      "source": [
        "class Nama:\n",
        "  pass\n",
        "\n",
        "var1 = Nama()\n",
        "type(var1)"
      ],
      "metadata": {
        "id": "iYIbym3vn3Rg",
        "colab": {
          "base_uri": "https://localhost:8080/"
        },
        "outputId": "e55d0d53-5dd5-495f-a34e-8e3f42dfe8d0"
      },
      "execution_count": 1,
      "outputs": [
        {
          "output_type": "execute_result",
          "data": {
            "text/plain": [
              "__main__.Nama"
            ]
          },
          "metadata": {},
          "execution_count": 1
        }
      ]
    },
    {
      "cell_type": "code",
      "source": [
        "class Kulkas:\n",
        "  def __init__(self, merek, harga):\n",
        "    self.merek = merek\n",
        "    self.harga = harga\n",
        "\n",
        "barang1 = Kulkas(merek = \"Samsung\", harga = 500) # barang1 = Kulkas(\"Samsung\", 500)\n",
        "\n",
        "barang1.merek"
      ],
      "metadata": {
        "colab": {
          "base_uri": "https://localhost:8080/",
          "height": 35
        },
        "id": "HTkubCBNp88s",
        "outputId": "5cfce689-bbbb-4e4c-ca42-c1c98bcf71ba"
      },
      "execution_count": 6,
      "outputs": [
        {
          "output_type": "execute_result",
          "data": {
            "text/plain": [
              "'Samsung'"
            ],
            "application/vnd.google.colaboratory.intrinsic+json": {
              "type": "string"
            }
          },
          "metadata": {},
          "execution_count": 6
        }
      ]
    },
    {
      "cell_type": "code",
      "source": [
        "class Kulkas:\n",
        "  def __init__(self, merek1, harga1):\n",
        "    self.brand = merek1\n",
        "    self.price = harga1\n",
        "\n",
        "barang1 = Kulkas(\"Samsung\", 500)\n",
        "\n",
        "barang1.brand"
      ],
      "metadata": {
        "colab": {
          "base_uri": "https://localhost:8080/",
          "height": 35
        },
        "id": "PPG28axDrysi",
        "outputId": "c535d63c-71e6-4815-d15e-712c552221da"
      },
      "execution_count": 8,
      "outputs": [
        {
          "output_type": "execute_result",
          "data": {
            "text/plain": [
              "'Samsung'"
            ],
            "application/vnd.google.colaboratory.intrinsic+json": {
              "type": "string"
            }
          },
          "metadata": {},
          "execution_count": 8
        }
      ]
    }
  ]
}