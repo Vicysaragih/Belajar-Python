{
  "nbformat": 4,
  "nbformat_minor": 0,
  "metadata": {
    "colab": {
      "provenance": [],
      "toc_visible": true,
      "authorship_tag": "ABX9TyOEy1MTGz5BCw744PT3ttId",
      "include_colab_link": true
    },
    "kernelspec": {
      "name": "python3",
      "display_name": "Python 3"
    },
    "language_info": {
      "name": "python"
    }
  },
  "cells": [
    {
      "cell_type": "markdown",
      "metadata": {
        "id": "view-in-github",
        "colab_type": "text"
      },
      "source": [
        "<a href=\"https://colab.research.google.com/github/Vicysaragih/Belajar-Python/blob/main/Belajar_Python_28_September_2023.ipynb\" target=\"_parent\"><img src=\"https://colab.research.google.com/assets/colab-badge.svg\" alt=\"Open In Colab\"/></a>"
      ]
    },
    {
      "cell_type": "markdown",
      "source": [
        "**VARIABEL**\n"
      ],
      "metadata": {
        "id": "Sw4gOdFQhq05"
      }
    },
    {
      "cell_type": "code",
      "execution_count": 2,
      "metadata": {
        "colab": {
          "base_uri": "https://localhost:8080/"
        },
        "id": "ldE0EWgWeAW6",
        "outputId": "bdbf895f-99d1-4a80-dfdc-369f272abde8"
      },
      "outputs": [
        {
          "output_type": "stream",
          "name": "stdout",
          "text": [
            " Nilai a =  15\n",
            " Nilai x =  12\n"
          ]
        }
      ],
      "source": [
        "#Variabel adalah tempat untuk menyimpan data\n",
        "\n",
        "a = 15\n",
        "x = 12\n",
        "\n",
        "print(\" Nilai a = \", a)\n",
        "print(\" Nilai x = \", x)"
      ]
    },
    {
      "cell_type": "markdown",
      "source": [
        "**TIPE DATA**\n"
      ],
      "metadata": {
        "id": "z5qKV9pTh31C"
      }
    },
    {
      "cell_type": "code",
      "source": [
        " #Integer\n",
        "\n",
        " data_integer = 2\n",
        "print(\"data : \", data_integer)\n",
        "print(\"- bertipe :\", type(data_integer))"
      ],
      "metadata": {
        "colab": {
          "base_uri": "https://localhost:8080/"
        },
        "id": "_-HeLiwmi0nz",
        "outputId": "5eb00d96-2c70-4bee-ff5e-283b702d309a"
      },
      "execution_count": 7,
      "outputs": [
        {
          "output_type": "stream",
          "name": "stdout",
          "text": [
            "data :  2\n",
            "- bertipe : <class 'int'>\n"
          ]
        }
      ]
    },
    {
      "cell_type": "code",
      "source": [
        " #Float\n",
        "\n",
        " data_float = 20.7\n",
        "print(\"data : \", data_float)\n",
        "print(\"- bertipe :\", type(data_float))"
      ],
      "metadata": {
        "colab": {
          "base_uri": "https://localhost:8080/"
        },
        "id": "XrWV77y-kS1y",
        "outputId": "cdfbce5b-5549-4bac-b9a8-5b9044f2c403"
      },
      "execution_count": 8,
      "outputs": [
        {
          "output_type": "stream",
          "name": "stdout",
          "text": [
            "data :  20.7\n",
            "- bertipe : <class 'float'>\n"
          ]
        }
      ]
    },
    {
      "cell_type": "code",
      "source": [
        "#String\n",
        "\n",
        "data_string = \"Saragih\"\n",
        "print(\"data : \", data_string)\n",
        "print(\"- bertipe :\", type(data_string))"
      ],
      "metadata": {
        "colab": {
          "base_uri": "https://localhost:8080/"
        },
        "id": "10C_HJVVkZvJ",
        "outputId": "51bc83e2-b5f1-434e-e0c5-60edf647b3cc"
      },
      "execution_count": 10,
      "outputs": [
        {
          "output_type": "stream",
          "name": "stdout",
          "text": [
            "data :  Saragih\n",
            "- bertipe : <class 'str'>\n"
          ]
        }
      ]
    },
    {
      "cell_type": "code",
      "source": [
        "#Boolean\n",
        "\n",
        "data_bool = True\n",
        "print(\"data : \", data_bool)\n",
        "print(\"- bertipe :\", type(data_bool))"
      ],
      "metadata": {
        "colab": {
          "base_uri": "https://localhost:8080/"
        },
        "id": "Q6eQGA8Dk2Nu",
        "outputId": "f2317147-c940-490a-bc93-ea4c2553d414"
      },
      "execution_count": 11,
      "outputs": [
        {
          "output_type": "stream",
          "name": "stdout",
          "text": [
            "data :  True\n",
            "- bertipe : <class 'bool'>\n"
          ]
        }
      ]
    },
    {
      "cell_type": "markdown",
      "source": [
        "**CASTING**  \n",
        "\n"
      ],
      "metadata": {
        "id": "PPQ2rBtVm8VP"
      }
    },
    {
      "cell_type": "code",
      "source": [
        "data_int = 8\n",
        "\n",
        "print(\" data :\", data_int, \", type =\", type(data_int) )"
      ],
      "metadata": {
        "colab": {
          "base_uri": "https://localhost:8080/"
        },
        "id": "h1nn_clqm_WV",
        "outputId": "1f1200ea-31b5-43d5-f791-9cc4850cccea"
      },
      "execution_count": 12,
      "outputs": [
        {
          "output_type": "stream",
          "name": "stdout",
          "text": [
            " data : 8 , type = <class 'int'>\n"
          ]
        }
      ]
    },
    {
      "cell_type": "code",
      "source": [
        "data_float = float(data_int)\n",
        "data_str = str(data_int)\n",
        "data_bool = bool(data_int)\n",
        "\n",
        "print(\" data :\", data_float, \", type =\", type(data_float))\n",
        "print(\" data :\", data_str, \", type =\", type(data_str))\n",
        "print(\" data :\", data_bool, \", type =\", type(data_bool))\n"
      ],
      "metadata": {
        "colab": {
          "base_uri": "https://localhost:8080/"
        },
        "id": "1X5LYdIjnZCa",
        "outputId": "03d1c477-75e3-40d5-bc93-4ef8f9e78621"
      },
      "execution_count": 15,
      "outputs": [
        {
          "output_type": "stream",
          "name": "stdout",
          "text": [
            " data : 8.0 , type = <class 'float'>\n",
            " data : 8 , type = <class 'str'>\n",
            " data : True , type = <class 'bool'>\n"
          ]
        }
      ]
    },
    {
      "cell_type": "code",
      "source": [],
      "metadata": {
        "id": "SD0DYUDnnuJu"
      },
      "execution_count": null,
      "outputs": []
    }
  ]
}