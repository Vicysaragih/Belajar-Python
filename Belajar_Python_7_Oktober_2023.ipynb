{
  "nbformat": 4,
  "nbformat_minor": 0,
  "metadata": {
    "colab": {
      "provenance": [],
      "authorship_tag": "ABX9TyN0WkW/+8tPbha6zcBtj5yy",
      "include_colab_link": true
    },
    "kernelspec": {
      "name": "python3",
      "display_name": "Python 3"
    },
    "language_info": {
      "name": "python"
    }
  },
  "cells": [
    {
      "cell_type": "markdown",
      "metadata": {
        "id": "view-in-github",
        "colab_type": "text"
      },
      "source": [
        "<a href=\"https://colab.research.google.com/github/Vicysaragih/Belajar-Python/blob/main/Belajar_Python_7_Oktober_2023.ipynb\" target=\"_parent\"><img src=\"https://colab.research.google.com/assets/colab-badge.svg\" alt=\"Open In Colab\"/></a>"
      ]
    },
    {
      "cell_type": "markdown",
      "source": [
        "**STRING**"
      ],
      "metadata": {
        "id": "iF6ez0LPDk26"
      }
    },
    {
      "cell_type": "code",
      "execution_count": 3,
      "metadata": {
        "colab": {
          "base_uri": "https://localhost:8080/"
        },
        "id": "qOdlNSNXU1Xw",
        "outputId": "701ca8e9-6c18-4ee0-8f25-362636bef4f0"
      },
      "outputs": [
        {
          "output_type": "stream",
          "name": "stdout",
          "text": [
            "VICY A C Saragih\n"
          ]
        }
      ],
      "source": [
        "# 1. Menyambung string (Concatenate)\n",
        "\n",
        "nama_pertama = \"VICY\"\n",
        "nama_tengah = \"A C\"\n",
        "nama_belakang = \"Saragih\"\n",
        "\n",
        "\n",
        "nama_lengkap = nama_pertama + \" \" + nama_tengah + \" \" + nama_belakang\n",
        "print(nama_lengkap)"
      ]
    },
    {
      "cell_type": "code",
      "source": [
        "nama_pertama = \"VICY\"\n",
        "nama_tengah = \"A C\"\n",
        "nama_belakang = \"Saragih\"\n",
        "\n",
        "\n",
        "nama_pertama = nama_pertama + \" \" + nama_tengah + \" \" + nama_belakang\n",
        "print(nama_pertama)"
      ],
      "metadata": {
        "colab": {
          "base_uri": "https://localhost:8080/"
        },
        "id": "tMpSlI8D1LKc",
        "outputId": "36155bbf-d1ba-4e07-fc3b-189fb0a309ae"
      },
      "execution_count": 4,
      "outputs": [
        {
          "output_type": "stream",
          "name": "stdout",
          "text": [
            "VICY A C Saragih\n"
          ]
        }
      ]
    },
    {
      "cell_type": "code",
      "source": [
        "# 2. Menghitung panjang string\n",
        "\n",
        "panjang = len(nama_pertama)\n",
        "print(panjang)"
      ],
      "metadata": {
        "colab": {
          "base_uri": "https://localhost:8080/"
        },
        "id": "UniFq-6r1STL",
        "outputId": "9412572b-1d5f-4249-e4bc-2bd4dcbba3dd"
      },
      "execution_count": 6,
      "outputs": [
        {
          "output_type": "stream",
          "name": "stdout",
          "text": [
            "16\n"
          ]
        }
      ]
    },
    {
      "cell_type": "code",
      "source": [
        "# 3. Operator string\n",
        "\n",
        "v = \"v\"\n",
        "status = v in nama_pertama\n",
        "print(v + \" ada di \" + nama_pertama + \" = \" + str(status))"
      ],
      "metadata": {
        "colab": {
          "base_uri": "https://localhost:8080/"
        },
        "id": "c_Up3DM31nvA",
        "outputId": "988a0c0f-3f3c-4354-99e9-90c4cd423b46"
      },
      "execution_count": 8,
      "outputs": [
        {
          "output_type": "stream",
          "name": "stdout",
          "text": [
            "v ada di VICY A C Saragih = False\n"
          ]
        }
      ]
    },
    {
      "cell_type": "code",
      "source": [
        "# 4. Pengecekan\n",
        "\n",
        "Simalungun = \"Horas !!\"\n",
        "Cek = Simalungun.islower()\n",
        "\n",
        "print (Simalungun + \" Is lower : \" + str(Cek))\n",
        "\n",
        "Simalungun = \"Horas !!\"\n",
        "Cek = Simalungun.isupper()\n",
        "\n",
        "print (Simalungun + \" Is upper : \" + str(Cek))"
      ],
      "metadata": {
        "colab": {
          "base_uri": "https://localhost:8080/"
        },
        "id": "N66cDjA5Bd_U",
        "outputId": "99651548-37e9-40ef-a244-6eb974ed603b"
      },
      "execution_count": 11,
      "outputs": [
        {
          "output_type": "stream",
          "name": "stdout",
          "text": [
            "Horas !! Is lower : False\n",
            "Horas !! Is upper : False\n"
          ]
        }
      ]
    },
    {
      "cell_type": "code",
      "source": [
        "# 5. Mengecek komponen\n",
        "\n",
        "Cek_start = \"Horas Simalungun\".startswith(\"Horas\")\n",
        "print(\"Start : \" + str(Cek_start))\n",
        "\n",
        "Cek_End = \"Horas Simalungun\".endswith(\"Horas\")\n",
        "print(\"End : \" + str(Cek_End))"
      ],
      "metadata": {
        "colab": {
          "base_uri": "https://localhost:8080/"
        },
        "id": "m41brsjRC84_",
        "outputId": "5128b4b9-0643-4192-cf70-759f756c845d"
      },
      "execution_count": 14,
      "outputs": [
        {
          "output_type": "stream",
          "name": "stdout",
          "text": [
            "Start : True\n",
            "End : False\n"
          ]
        }
      ]
    },
    {
      "cell_type": "code",
      "source": [
        "# 6. Alokasi Karakter\n",
        "\n",
        "Kanan = \"Saragih\".rjust(12)\n",
        "print(\"'\" + Kanan + \"'\")\n",
        "\n",
        "Kiri = \"Saragih\".ljust(12)\n",
        "print(\"'\" + Kiri + \"'\")\n",
        "\n",
        "Center = \"Saragih\".center(12)\n",
        "print(\"'\" + Center + \"'\")"
      ],
      "metadata": {
        "colab": {
          "base_uri": "https://localhost:8080/"
        },
        "id": "UWxQ_v0OFy6N",
        "outputId": "91faaec2-5594-4f66-aefd-004eb41c3dd4"
      },
      "execution_count": 19,
      "outputs": [
        {
          "output_type": "stream",
          "name": "stdout",
          "text": [
            "'     Saragih'\n",
            "'Saragih     '\n",
            "'  Saragih   '\n"
          ]
        }
      ]
    }
  ]
}