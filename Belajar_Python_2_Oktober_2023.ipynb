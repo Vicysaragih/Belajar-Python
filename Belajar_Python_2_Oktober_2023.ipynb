{
  "nbformat": 4,
  "nbformat_minor": 0,
  "metadata": {
    "colab": {
      "provenance": [],
      "authorship_tag": "ABX9TyM4VE1qKplbEx0QLveZXOJc",
      "include_colab_link": true
    },
    "kernelspec": {
      "name": "python3",
      "display_name": "Python 3"
    },
    "language_info": {
      "name": "python"
    }
  },
  "cells": [
    {
      "cell_type": "markdown",
      "metadata": {
        "id": "view-in-github",
        "colab_type": "text"
      },
      "source": [
        "<a href=\"https://colab.research.google.com/github/Vicysaragih/Belajar-Python/blob/main/Belajar_Python_2_Oktober_2023.ipynb\" target=\"_parent\"><img src=\"https://colab.research.google.com/assets/colab-badge.svg\" alt=\"Open In Colab\"/></a>"
      ]
    },
    {
      "cell_type": "markdown",
      "source": [
        "**LATIHAN LOGIKA DAN KOMPARASI**"
      ],
      "metadata": {
        "id": "gZ4f19tqOnct"
      }
    },
    {
      "cell_type": "code",
      "execution_count": 24,
      "metadata": {
        "colab": {
          "base_uri": "https://localhost:8080/"
        },
        "id": "l5JEncJNOEqa",
        "outputId": "0f2dd9ea-7380-4862-d4fb-50d365c64eb6"
      },
      "outputs": [
        {
          "name": "stdout",
          "output_type": "stream",
          "text": [
            "Masukan angka yang bernilai\n",
            "kurang dari\n",
            "atau\n",
            "lebih dari 10\n",
            ":1\n"
          ]
        }
      ],
      "source": [
        "# ++++++3------10++++++++\n",
        "\n",
        "\n",
        "inputUser = input(\"Masukan angka yang bernilai\\nkurang dari\\natau\\nlebih dari 10\\n:\")\n"
      ]
    },
    {
      "cell_type": "code",
      "source": [
        "#Memeriksa angka kurang dari tiga\n",
        "\n",
        "isKurangDari = (inputUser < \"3\" )\n",
        "\n",
        "print(\"Kurang dari 3:\", isKurangDari)"
      ],
      "metadata": {
        "colab": {
          "base_uri": "https://localhost:8080/"
        },
        "id": "4qPSLVliOxFB",
        "outputId": "e3a07eb8-f2ae-4018-f93f-04a05e5cb54b"
      },
      "execution_count": 25,
      "outputs": [
        {
          "output_type": "stream",
          "name": "stdout",
          "text": [
            "Kurang dari 3: True\n"
          ]
        }
      ]
    },
    {
      "cell_type": "code",
      "source": [
        "#Memeriksa angka lebih dari 10\n",
        "\n",
        "isLebihDari = (inputUser > \"10\")\n",
        "\n",
        "print(\"lebih dari 10: \", isLebihDari)"
      ],
      "metadata": {
        "colab": {
          "base_uri": "https://localhost:8080/"
        },
        "id": "rZIyZCgoQh9E",
        "outputId": "efd5a07e-353c-4857-aaff-581f976db764"
      },
      "execution_count": 26,
      "outputs": [
        {
          "output_type": "stream",
          "name": "stdout",
          "text": [
            "lebih dari 10:  False\n"
          ]
        }
      ]
    },
    {
      "cell_type": "code",
      "source": [
        "IsCorrect = isKurangDari or isLebihDari\n",
        "\n",
        "print(\"Angka yang anda masukan :\", IsCorrect )\n"
      ],
      "metadata": {
        "colab": {
          "base_uri": "https://localhost:8080/"
        },
        "id": "xRU8JJJkPPRl",
        "outputId": "73aa7d43-c38a-473a-f3de-0439b54dc48f"
      },
      "execution_count": 27,
      "outputs": [
        {
          "output_type": "stream",
          "name": "stdout",
          "text": [
            "Angka yang anda masukan : True\n"
          ]
        }
      ]
    },
    {
      "cell_type": "code",
      "source": [],
      "metadata": {
        "id": "MhVtcBk-PPUq"
      },
      "execution_count": null,
      "outputs": []
    }
  ]
}