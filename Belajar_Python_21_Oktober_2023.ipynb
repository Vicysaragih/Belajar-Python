{
  "nbformat": 4,
  "nbformat_minor": 0,
  "metadata": {
    "colab": {
      "provenance": [],
      "toc_visible": true,
      "authorship_tag": "ABX9TyOpNn9eQEWI5m+96XBfSGVx",
      "include_colab_link": true
    },
    "kernelspec": {
      "name": "python3",
      "display_name": "Python 3"
    },
    "language_info": {
      "name": "python"
    }
  },
  "cells": [
    {
      "cell_type": "markdown",
      "metadata": {
        "id": "view-in-github",
        "colab_type": "text"
      },
      "source": [
        "<a href=\"https://colab.research.google.com/github/Vicysaragih/Belajar-Python/blob/main/Belajar_Python_21_Oktober_2023.ipynb\" target=\"_parent\"><img src=\"https://colab.research.google.com/assets/colab-badge.svg\" alt=\"Open In Colab\"/></a>"
      ]
    },
    {
      "cell_type": "markdown",
      "source": [
        "**IMPORT**"
      ],
      "metadata": {
        "id": "MtllOM2i85PL"
      }
    },
    {
      "cell_type": "code",
      "execution_count": 1,
      "metadata": {
        "colab": {
          "base_uri": "https://localhost:8080/",
          "height": 70
        },
        "id": "M45iJk7D48oT",
        "outputId": "5753514c-866c-4db9-e813-fdcab710072c"
      },
      "outputs": [
        {
          "output_type": "execute_result",
          "data": {
            "text/plain": [
              "'\\n1. Menyambung program dari external\\nprint Pogram_Saragih  # Mengambil data dari file external Program_Saragih\\nprint Pogram_Sumbayak  # Mengambil data dari file external Pogram_Sumbayak\\n\\n2. Import dengan Data \\nimport variable # Didalam file variable terdapat store data yang dapat diambil \\n                  untuk diambil.\\n\\n# data ada di namespace variable\\nprint(variable.data)\\n\\n'"
            ],
            "application/vnd.google.colaboratory.intrinsic+json": {
              "type": "string"
            }
          },
          "metadata": {},
          "execution_count": 1
        }
      ],
      "source": [
        "# Fungsinya adalah untuk mengambil progran dari file external .py\n",
        "\n",
        "'''\n",
        "1. Menyambung program dari external\n",
        "print Pogram_Saragih  # Mengambil data dari file external Program_Saragih\n",
        "print Pogram_Sumbayak  # Mengambil data dari file external Pogram_Sumbayak\n",
        "\n",
        "2. Import dengan Data\n",
        "import variable # Didalam file variable terdapat store data yang dapat diambil\n",
        "                  untuk diambil.\n",
        "\n",
        "# data ada di namespace variable\n",
        "print(variable.data)\n",
        "\n",
        "'''"
      ]
    },
    {
      "cell_type": "markdown",
      "source": [
        "**MODULE**"
      ],
      "metadata": {
        "id": "C06IoLgWOdN-"
      }
    },
    {
      "cell_type": "code",
      "source": [
        "# Asumsi File matematika\n",
        "\n",
        "def tambah(*args):\n",
        "  hasil = 0\n",
        "  for data in args:\n",
        "    hasil += data\n",
        "  return hasil\n",
        "\n",
        "def hasil(*args):\n",
        "  hasil = 1\n",
        "  for data in args :\n",
        "    hasil *= data\n",
        "\n",
        "  return hasil\n",
        "\n",
        "def pangkat(n:int):\n",
        "  return lambda angka:angka**n"
      ],
      "metadata": {
        "id": "JYx9tq-38556"
      },
      "execution_count": 2,
      "outputs": []
    },
    {
      "cell_type": "code",
      "source": [
        "'''\n",
        "import matematika\n",
        "\n",
        "hasil_tambah = matematika.tambah(1, 2, 3, 4, 5)\n",
        "print(f\"hasil tambah = {hasil_tambah}\")\n",
        "\n",
        "hasil_kali = matematika.kali(1, 2, 3, 4, 5)\n",
        "print(f\"hasil kali = {hasil_kali}\")\n",
        "'''"
      ],
      "metadata": {
        "colab": {
          "base_uri": "https://localhost:8080/",
          "height": 52
        },
        "id": "WVhMG1OVPErU",
        "outputId": "8c8c57b2-a203-4a49-e03f-ae99807cb57d"
      },
      "execution_count": 4,
      "outputs": [
        {
          "output_type": "execute_result",
          "data": {
            "text/plain": [
              "'\\nimport matematika \\n\\nhasil_tambah = matematika.tambah(1, 2, 3, 4, 5)\\nprint(f\"hasil tambah = {hasil_tambah}\")\\n\\nhasil_kali = matematika.kali(1, 2, 3, 4, 5)\\nprint(f\"hasil kali = {hasil_kali}\")\\n'"
            ],
            "application/vnd.google.colaboratory.intrinsic+json": {
              "type": "string"
            }
          },
          "metadata": {},
          "execution_count": 4
        }
      ]
    },
    {
      "cell_type": "markdown",
      "source": [
        "**FROM IMPORT**"
      ],
      "metadata": {
        "id": "VGBFHKHhQz-o"
      }
    },
    {
      "cell_type": "code",
      "source": [
        "# Asumsi file main_from\n",
        "\n",
        "'''\n",
        "from matematika import tambah, kali\n",
        "from matematika import * # Mengambil semua yang ada di module matematika\n",
        "\n",
        "hasil_tambah = tambah(1, 2, 3, 4, 5)\n",
        "print(f\"hasil tambah = {hasil_tambah}\")\n",
        "\n",
        "hasil_kali = kali(1, 2, 3, 4, 5)\n",
        "print(f\"hasil kali = {hasil_kali}\")\n",
        "'''"
      ],
      "metadata": {
        "colab": {
          "base_uri": "https://localhost:8080/",
          "height": 52
        },
        "id": "zsYSTVM9QD3p",
        "outputId": "c6ea64fc-2cd3-43b4-ea1e-a9e4b3000bf5"
      },
      "execution_count": 5,
      "outputs": [
        {
          "output_type": "execute_result",
          "data": {
            "text/plain": [
              "'\\nfrom matematika import tambah, kali\\n\\nhasil_tambah = tambah(1, 2, 3, 4, 5)\\nprint(f\"hasil tambah = {hasil_tambah}\")\\n\\nhasil_kali = kali(1, 2, 3, 4, 5)\\nprint(f\"hasil kali = {hasil_kali}\")\\n'"
            ],
            "application/vnd.google.colaboratory.intrinsic+json": {
              "type": "string"
            }
          },
          "metadata": {},
          "execution_count": 5
        }
      ]
    },
    {
      "cell_type": "markdown",
      "source": [
        "**IMPORT AS**"
      ],
      "metadata": {
        "id": "C73LuIieQ7bX"
      }
    },
    {
      "cell_type": "code",
      "source": [
        "'''\n",
        "from matematika import tambah as add\n",
        "from matematika import kali as k\n",
        "\n",
        "\n",
        "hasil_tambah = add(1, 2, 3, 4, 5)\n",
        "print(f\"hasil tambah = {hasil_tambah}\")\n",
        "\n",
        "hasil_kali = k(1, 2, 3, 4, 5)\n",
        "print(f\"hasil kali = {hasil_kali}\")\n",
        "'''"
      ],
      "metadata": {
        "id": "d-Bs7pdrQZCk"
      },
      "execution_count": null,
      "outputs": []
    }
  ]
}