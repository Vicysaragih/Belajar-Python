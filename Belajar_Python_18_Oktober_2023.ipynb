{
  "nbformat": 4,
  "nbformat_minor": 0,
  "metadata": {
    "colab": {
      "provenance": [],
      "authorship_tag": "ABX9TyMkkXE+MZVfJDT6WuhKAkup",
      "include_colab_link": true
    },
    "kernelspec": {
      "name": "python3",
      "display_name": "Python 3"
    },
    "language_info": {
      "name": "python"
    }
  },
  "cells": [
    {
      "cell_type": "markdown",
      "metadata": {
        "id": "view-in-github",
        "colab_type": "text"
      },
      "source": [
        "<a href=\"https://colab.research.google.com/github/Vicysaragih/Belajar-Python/blob/main/Belajar_Python_18_Oktober_2023.ipynb\" target=\"_parent\"><img src=\"https://colab.research.google.com/assets/colab-badge.svg\" alt=\"Open In Colab\"/></a>"
      ]
    },
    {
      "cell_type": "markdown",
      "source": [
        "**DEEP COPY NESTED LIST**"
      ],
      "metadata": {
        "id": "Mf45NAKmOTqp"
      }
    },
    {
      "cell_type": "code",
      "execution_count": 4,
      "metadata": {
        "colab": {
          "base_uri": "https://localhost:8080/"
        },
        "id": "tWyDOc9VNW6i",
        "outputId": "ec66293c-dd4d-4763-a9bc-b1fb1624fe2e"
      },
      "outputs": [
        {
          "output_type": "stream",
          "name": "stdout",
          "text": [
            "data = [[4, 5], [9, 8]]\n",
            "data [[4, 5], [9, 8]]\n"
          ]
        }
      ],
      "source": [
        "data_0 = [4, 5]\n",
        "data_1 = [9, 8]\n",
        "\n",
        "data_2D = [data_0, data_1]\n",
        "data_copy = data_2D.copy()\n",
        "\n",
        "print (f\"data = {data_2D}\")\n",
        "print(f\"data {data_copy}\")"
      ]
    },
    {
      "cell_type": "code",
      "source": [
        "data = data_2D[1][0]\n",
        "print(f\"data {data}\")\n"
      ],
      "metadata": {
        "colab": {
          "base_uri": "https://localhost:8080/"
        },
        "id": "zZxk3QvSOrey",
        "outputId": "40676590-3dfc-4a09-ea08-424d9031e169"
      },
      "execution_count": 6,
      "outputs": [
        {
          "output_type": "stream",
          "name": "stdout",
          "text": [
            "data 9\n"
          ]
        }
      ]
    },
    {
      "cell_type": "code",
      "source": [
        "# Address semuanya\n",
        "print(f\"Adress asli = {hex(id(data_2D))}\")\n",
        "print(f\"Adress Copy = {hex(id(data_copy))}\")"
      ],
      "metadata": {
        "colab": {
          "base_uri": "https://localhost:8080/"
        },
        "id": "-30JeSKnPZWz",
        "outputId": "cf782bbc-c611-40aa-84d6-08fb8cd3485c"
      },
      "execution_count": 7,
      "outputs": [
        {
          "output_type": "stream",
          "name": "stdout",
          "text": [
            "Adress asli = 0x7e9a5ea1e240\n",
            "Adress Copy = 0x7e9a5ebcfc80\n"
          ]
        }
      ]
    },
    {
      "cell_type": "code",
      "source": [
        "print(f\"Address dari member ke-1\")\n",
        "\n",
        "print(f\"Adress asli = {hex(id(data_2D[0]))}\") # adrress list di dalam list masih sama sehingga ketika ada perubahan di\n",
        "print(f\"Adress Copy = {hex(id(data_copy[0]))}\") # disalah satu list yg sudah di copy kedua2 ikut berubah"
      ],
      "metadata": {
        "colab": {
          "base_uri": "https://localhost:8080/"
        },
        "id": "OejA3gCNPx0b",
        "outputId": "5945b5c1-1ff8-46d5-d137-b755447182b9"
      },
      "execution_count": 8,
      "outputs": [
        {
          "output_type": "stream",
          "name": "stdout",
          "text": [
            "Address dari member ke-1\n",
            "Adress asli = 0x7e9a5ebb1f00\n",
            "Adress Copy = 0x7e9a5ebb1f00\n"
          ]
        }
      ]
    },
    {
      "cell_type": "code",
      "source": [
        "# Menggunakan deepcopy\n",
        "\n",
        "from copy import deepcopy\n",
        "\n",
        "data_2D = [data_0, data_1]\n",
        "data_2D_deepcopy = deepcopy(data_2D)\n",
        "\n",
        "print(f\"Adress asli = {hex(id(data_2D))}\")\n",
        "print(f\"Adress deep = {hex(id(data_2D_deepcopy))}\")\n"
      ],
      "metadata": {
        "colab": {
          "base_uri": "https://localhost:8080/"
        },
        "id": "eG-RA0QEQ4vg",
        "outputId": "8435d2d5-4aff-428f-a4e8-44c7d386442d"
      },
      "execution_count": 11,
      "outputs": [
        {
          "output_type": "stream",
          "name": "stdout",
          "text": [
            "Adress asli = 0x7e9a5eac2c80\n",
            "Adress deep = 0x7e9a5eac3440\n"
          ]
        }
      ]
    },
    {
      "cell_type": "code",
      "source": [
        "print(f\"Adress asli = {hex(id(data_2D[0]))}\") #\n",
        "print(f\"Adress deep = {hex(id(data_2D_deepcopy[0]))}\")"
      ],
      "metadata": {
        "colab": {
          "base_uri": "https://localhost:8080/"
        },
        "id": "jhfWTPp_RtHF",
        "outputId": "9245d4df-d4e6-4aac-f3cc-51e96894fc79"
      },
      "execution_count": 12,
      "outputs": [
        {
          "output_type": "stream",
          "name": "stdout",
          "text": [
            "Adress asli = 0x7e9a5ebb1f00\n",
            "Adress deep = 0x7e9a5eac0a80\n"
          ]
        }
      ]
    },
    {
      "cell_type": "markdown",
      "source": [
        "**LOOPING LIST**"
      ],
      "metadata": {
        "id": "hxvmkheES1Hr"
      }
    },
    {
      "cell_type": "code",
      "source": [
        "peserta = [\"Vicy\", \"Afandy\", \"Cordias\", \"Saragih\", \"Sumbayak\", \"Parhuluan\"]\n",
        "\n",
        "for nama in peserta:\n",
        "  print(f\"nama : {nama}\")"
      ],
      "metadata": {
        "colab": {
          "base_uri": "https://localhost:8080/"
        },
        "id": "qqG3QAk_S3FC",
        "outputId": "7e6035ec-ee90-4e4d-84d0-ca0156b27b6a"
      },
      "execution_count": 17,
      "outputs": [
        {
          "output_type": "stream",
          "name": "stdout",
          "text": [
            "nama : Vicy\n",
            "nama : Afandy\n",
            "nama : Cordias\n",
            "nama : Saragih\n",
            "nama : Sumbayak\n",
            "nama : Parhuluan\n"
          ]
        }
      ]
    },
    {
      "cell_type": "code",
      "source": [
        "angka  = [4, 7, 8, 2, 4, 1, ]\n",
        "\n",
        "for A in angka :\n",
        "  print(f\"angka = {A}\")"
      ],
      "metadata": {
        "colab": {
          "base_uri": "https://localhost:8080/"
        },
        "id": "Z9N8zwAXTTFH",
        "outputId": "5b5ebf8d-e706-4db8-b132-1d00a6932025"
      },
      "execution_count": 15,
      "outputs": [
        {
          "output_type": "stream",
          "name": "stdout",
          "text": [
            "angka = 4\n",
            "angka = 7\n",
            "angka = 8\n",
            "angka = 2\n",
            "angka = 4\n",
            "angka = 1\n"
          ]
        }
      ]
    },
    {
      "cell_type": "code",
      "source": [
        "# Menggunakan While\n",
        "kumpulan_angka = [5, 6, 8, 2, 4, 9, 1]\n",
        "\n",
        "panjang = len(kumpulan_angka)\n",
        "i = 0\n",
        "\n",
        "while i < panjang:\n",
        "  print(f\"angka : {kumpulan_angka[i]}\")\n",
        "  i += 1"
      ],
      "metadata": {
        "colab": {
          "base_uri": "https://localhost:8080/"
        },
        "id": "zfOwD-TcUHpL",
        "outputId": "73aa49af-367d-4e73-c6e8-f7d65ab201be"
      },
      "execution_count": 20,
      "outputs": [
        {
          "output_type": "stream",
          "name": "stdout",
          "text": [
            "angka : 5\n",
            "angka : 6\n",
            "angka : 8\n",
            "angka : 2\n",
            "angka : 4\n",
            "angka : 9\n",
            "angka : 1\n"
          ]
        }
      ]
    },
    {
      "cell_type": "code",
      "source": [
        "# List Comprehension\n",
        "data_baru = [\"Vicy\", 4, 5, \"Saragih\"]\n",
        "\n",
        "[print(f\"data = {i}\") for i in data_baru]"
      ],
      "metadata": {
        "colab": {
          "base_uri": "https://localhost:8080/"
        },
        "id": "IRNsDPm6U4RD",
        "outputId": "193cbc20-aa37-41e4-e33a-ae7455a72bbe"
      },
      "execution_count": 23,
      "outputs": [
        {
          "output_type": "stream",
          "name": "stdout",
          "text": [
            "data = Vicy\n",
            "data = 4\n",
            "data = 5\n",
            "data = Saragih\n"
          ]
        },
        {
          "output_type": "execute_result",
          "data": {
            "text/plain": [
              "[None, None, None, None]"
            ]
          },
          "metadata": {},
          "execution_count": 23
        }
      ]
    },
    {
      "cell_type": "code",
      "source": [
        "# Enumerate\n",
        "\n",
        "data_list = [\"Vicy\", 4, 5, \"Saragih\"]\n",
        "\n",
        "for index, data in enumerate (data_list):\n",
        "  print(f\"index : {index}, data : {data}\")"
      ],
      "metadata": {
        "colab": {
          "base_uri": "https://localhost:8080/"
        },
        "id": "bW8cnJWQWC7T",
        "outputId": "fd411f4b-0ced-43be-9fba-a6eb2ef1311c"
      },
      "execution_count": 24,
      "outputs": [
        {
          "output_type": "stream",
          "name": "stdout",
          "text": [
            "index : 0, data : Vicy\n",
            "index : 1, data : 4\n",
            "index : 2, data : 5\n",
            "index : 3, data : Saragih\n"
          ]
        }
      ]
    },
    {
      "cell_type": "markdown",
      "source": [
        "**TUPLE DAN SET**"
      ],
      "metadata": {
        "id": "bloX7MN1d-aO"
      }
    },
    {
      "cell_type": "code",
      "source": [
        "data_tuples = (4, 5, 9, 8)\n",
        "print(data_tuples)"
      ],
      "metadata": {
        "colab": {
          "base_uri": "https://localhost:8080/"
        },
        "id": "9C9nnRQTd9zX",
        "outputId": "cb140d49-ca9e-4a16-8c16-e5bda21b408b"
      },
      "execution_count": 27,
      "outputs": [
        {
          "output_type": "stream",
          "name": "stdout",
          "text": [
            "(4, 5, 9, 8)\n"
          ]
        }
      ]
    },
    {
      "cell_type": "code",
      "source": [
        "print(data_tuples[1])"
      ],
      "metadata": {
        "colab": {
          "base_uri": "https://localhost:8080/"
        },
        "id": "d-cin94HeVt6",
        "outputId": "c03273e1-6287-4d6d-fd15-95dd446e3193"
      },
      "execution_count": 28,
      "outputs": [
        {
          "output_type": "stream",
          "name": "stdout",
          "text": [
            "5\n"
          ]
        }
      ]
    },
    {
      "cell_type": "code",
      "source": [
        "data_sets = {4, 5, 9, 8}\n",
        "\n",
        "print(data_sets)"
      ],
      "metadata": {
        "colab": {
          "base_uri": "https://localhost:8080/"
        },
        "id": "PERewAlYe1_n",
        "outputId": "c3a4edb8-0b03-443e-f777-bbebf78c54a7"
      },
      "execution_count": 31,
      "outputs": [
        {
          "output_type": "stream",
          "name": "stdout",
          "text": [
            "{8, 9, 4, 5}\n"
          ]
        }
      ]
    }
  ]
}