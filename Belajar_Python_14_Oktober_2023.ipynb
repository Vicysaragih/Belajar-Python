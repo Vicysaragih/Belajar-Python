{
  "nbformat": 4,
  "nbformat_minor": 0,
  "metadata": {
    "colab": {
      "provenance": [],
      "authorship_tag": "ABX9TyMKYH0nraA9aDBR6ephAfxJ",
      "include_colab_link": true
    },
    "kernelspec": {
      "name": "python3",
      "display_name": "Python 3"
    },
    "language_info": {
      "name": "python"
    }
  },
  "cells": [
    {
      "cell_type": "markdown",
      "metadata": {
        "id": "view-in-github",
        "colab_type": "text"
      },
      "source": [
        "<a href=\"https://colab.research.google.com/github/Vicysaragih/Belajar-Python/blob/main/Belajar_Python_14_Oktober_2023.ipynb\" target=\"_parent\"><img src=\"https://colab.research.google.com/assets/colab-badge.svg\" alt=\"Open In Colab\"/></a>"
      ]
    },
    {
      "cell_type": "markdown",
      "source": [
        "**FORMAT STRING**"
      ],
      "metadata": {
        "id": "ra5SDEou2s4V"
      }
    },
    {
      "cell_type": "code",
      "execution_count": 4,
      "metadata": {
        "colab": {
          "base_uri": "https://localhost:8080/"
        },
        "id": "m2khWK8W11J3",
        "outputId": "bdac4a82-1813-470f-8a46-dd64938ec3fb"
      },
      "outputs": [
        {
          "output_type": "stream",
          "name": "stdout",
          "text": [
            "Hello Vicy\n",
            "Angka 298\n"
          ]
        }
      ],
      "source": [
        "# Contoh generic\n",
        "\n",
        "#String\n",
        "nama = \"Vicy\"\n",
        "format_str = f\"Hello {nama}\"\n",
        "\n",
        "print(format_str)\n",
        "\n",
        "\n",
        "# Angka\n",
        "Angka = 298\n",
        "format_str = f\"Angka {Angka}\"\n",
        "\n",
        "print(format_str)"
      ]
    },
    {
      "cell_type": "code",
      "source": [
        "Jutaan = 2987777\n",
        "format_str = f\"Nilai {Jutaan :,}\"\n",
        "\n",
        "print(format_str)"
      ],
      "metadata": {
        "colab": {
          "base_uri": "https://localhost:8080/"
        },
        "id": "S03G7WqQ4XIQ",
        "outputId": "8b9afe11-41cf-4f49-becb-9717658fc70b"
      },
      "execution_count": 6,
      "outputs": [
        {
          "output_type": "stream",
          "name": "stdout",
          "text": [
            "Nilai 2,987,777\n"
          ]
        }
      ]
    },
    {
      "cell_type": "code",
      "source": [
        "#Bilangan Desimal\n",
        "\n",
        "Desimal = 29.87777\n",
        "format_str = f\"Nilai {Desimal :.2f}\"\n",
        "\n",
        "print(format_str)"
      ],
      "metadata": {
        "colab": {
          "base_uri": "https://localhost:8080/"
        },
        "id": "7C8KXO8E4wlU",
        "outputId": "a3a26e3c-ac79-4b8d-8ec6-96948485ba9f"
      },
      "execution_count": 8,
      "outputs": [
        {
          "output_type": "stream",
          "name": "stdout",
          "text": [
            "Nilai 29.88\n"
          ]
        }
      ]
    },
    {
      "cell_type": "code",
      "source": [
        "#Data\n",
        "\n",
        "data_nama = \"Vicy\"\n",
        "data_umur = 25\n",
        "data_tinggi = 158\n",
        "data_nomor_sepatu = 40\n",
        "\n",
        "#String\n",
        "data_string = f\"nama = {data_nama}, umur = {data_umur}, tinggi = {data_tinggi}, Nomor Sepatu = {data_nomor_sepatu}\"\n",
        "print(4*\"=\"+\"Data String\"+4*\"=\")\n",
        "print(data_string)"
      ],
      "metadata": {
        "colab": {
          "base_uri": "https://localhost:8080/"
        },
        "id": "ffDVCwUo_Gv0",
        "outputId": "90af295f-ec0b-41ee-ad1c-b04430e78c2c"
      },
      "execution_count": 10,
      "outputs": [
        {
          "output_type": "stream",
          "name": "stdout",
          "text": [
            "====Data String====\n",
            "nama = Vicy, umur = 25, tinggi = 158, Nomor Sepatu = 40\n"
          ]
        }
      ]
    },
    {
      "cell_type": "code",
      "source": [
        "data_string = f\"nama = {data_nama} \\numur = {data_umur} \\ntinggi = {data_tinggi} \\nNomor Sepatu = {data_nomor_sepatu}\"\n",
        "print(4*\"=\"+\"Data String\"+4*\"=\")\n",
        "print(data_string)"
      ],
      "metadata": {
        "colab": {
          "base_uri": "https://localhost:8080/"
        },
        "id": "YPampUcoAvZO",
        "outputId": "afc05536-4cae-449d-a1be-1d8b8fdb1b03"
      },
      "execution_count": 12,
      "outputs": [
        {
          "output_type": "stream",
          "name": "stdout",
          "text": [
            "====Data String====\n",
            "nama = Vicy \n",
            "umur = 25 \n",
            "tinggi = 158 \n",
            "Nomor Sepatu = 40\n"
          ]
        }
      ]
    },
    {
      "cell_type": "code",
      "source": [
        " #Rata kanan\n",
        " data_string = f\"nama = {data_nama:>8} \\numur = {data_umur:>7} \\ntinggi = {data_tinggi:>5} \\nSepatu = {data_nomor_sepatu:>5}\"\n",
        "print(4*\"=\"+\"Data String\"+4*\"=\")\n",
        "print(data_string)"
      ],
      "metadata": {
        "colab": {
          "base_uri": "https://localhost:8080/"
        },
        "id": "5nvGAaozCDo3",
        "outputId": "3d5c46f4-06d4-4724-ac91-357ff86a3dc6"
      },
      "execution_count": 16,
      "outputs": [
        {
          "output_type": "stream",
          "name": "stdout",
          "text": [
            "====Data String====\n",
            "nama =     Vicy \n",
            "umur =      25 \n",
            "tinggi =   158 \n",
            "Sepatu =    40\n"
          ]
        }
      ]
    },
    {
      "cell_type": "code",
      "source": [
        "import datetime as dt\n",
        "hari_ini = dt.date.today()\n",
        "print(hari_ini)"
      ],
      "metadata": {
        "colab": {
          "base_uri": "https://localhost:8080/"
        },
        "id": "vBkEGor-HUkt",
        "outputId": "585827be-eb38-4fec-e236-c33a7a594662"
      },
      "execution_count": 17,
      "outputs": [
        {
          "output_type": "stream",
          "name": "stdout",
          "text": [
            "2023-10-14\n"
          ]
        }
      ]
    }
  ]
}