{
  "nbformat": 4,
  "nbformat_minor": 0,
  "metadata": {
    "colab": {
      "provenance": [],
      "authorship_tag": "ABX9TyPzZqMLZZV3w6NrQy8PdOTp",
      "include_colab_link": true
    },
    "kernelspec": {
      "name": "python3",
      "display_name": "Python 3"
    },
    "language_info": {
      "name": "python"
    }
  },
  "cells": [
    {
      "cell_type": "markdown",
      "metadata": {
        "id": "view-in-github",
        "colab_type": "text"
      },
      "source": [
        "<a href=\"https://colab.research.google.com/github/Vicysaragih/Belajar-Python/blob/main/Belajar_Python_17_Oktober_2023.ipynb\" target=\"_parent\"><img src=\"https://colab.research.google.com/assets/colab-badge.svg\" alt=\"Open In Colab\"/></a>"
      ]
    },
    {
      "cell_type": "markdown",
      "source": [
        "**OPERASI LIST**"
      ],
      "metadata": {
        "id": "Q3TeMOC5KoDR"
      }
    },
    {
      "cell_type": "code",
      "execution_count": 3,
      "metadata": {
        "colab": {
          "base_uri": "https://localhost:8080/"
        },
        "id": "AOgjZW_dJVUm",
        "outputId": "b11e8be5-1eda-43de-8e75-32c825c3d2c6"
      },
      "outputs": [
        {
          "output_type": "stream",
          "name": "stdout",
          "text": [
            " Data Angka = \n",
            " (1, 3, 5, 3, 7, 8, 4, 3, 5, 8, 9, 6, 7)\n"
          ]
        }
      ],
      "source": [
        "data_angka = (1, 3, 5, 3, 7, 8, 4, 3, 5, 8, 9, 6, 7, )\n",
        "print(f\" Data Angka = \\n {data_angka}\")"
      ]
    },
    {
      "cell_type": "code",
      "source": [
        "jumlah_angka3 = data_angka.count(3) # Menghitung jumlah dari suatu  data\n",
        "\n",
        "print(f\"Jumlah angka 3 = {jumlah_angka3}\")"
      ],
      "metadata": {
        "colab": {
          "base_uri": "https://localhost:8080/"
        },
        "id": "HKHcru4zLLq-",
        "outputId": "5cecd2de-e5f8-45c5-8966-a6aad5965527"
      },
      "execution_count": 6,
      "outputs": [
        {
          "output_type": "stream",
          "name": "stdout",
          "text": [
            "Jumlah angka 3 = 3\n"
          ]
        }
      ]
    },
    {
      "cell_type": "code",
      "source": [
        "jumlah_angka8 = data_angka.count(8)\n",
        "\n",
        "print(f\"Jumlah angka 8 = {jumlah_angka8}\")"
      ],
      "metadata": {
        "colab": {
          "base_uri": "https://localhost:8080/"
        },
        "id": "zm_daERiLp04",
        "outputId": "c312b24d-7268-4811-ea88-d82b278e7775"
      },
      "execution_count": 9,
      "outputs": [
        {
          "output_type": "stream",
          "name": "stdout",
          "text": [
            "Jumlah angka 8 = 2\n"
          ]
        }
      ]
    },
    {
      "cell_type": "code",
      "source": [
        "data = [\"Vicy\", \"Saragih\", \"Sumbayak\"]\n",
        "\n",
        "index_Saragih = data.index(\"Saragih\") # Mencarai index dalam list\n",
        "\n",
        "print(f\"Saragih ada di Index ke- {index_Saragih} \")"
      ],
      "metadata": {
        "colab": {
          "base_uri": "https://localhost:8080/"
        },
        "id": "1_k3YvT3M6Sk",
        "outputId": "ad6eb9bc-459c-4cf9-d297-b529d9ecbfe6"
      },
      "execution_count": 11,
      "outputs": [
        {
          "output_type": "stream",
          "name": "stdout",
          "text": [
            "Saragih ada di Index ke- 1 \n"
          ]
        }
      ]
    },
    {
      "cell_type": "markdown",
      "source": [
        "**COPY LIST**"
      ],
      "metadata": {
        "id": "Be3-Sub7OklU"
      }
    },
    {
      "cell_type": "code",
      "source": [
        "A = [\"Vicy\", \"Saragih\", \"Sumbayak\"]\n",
        "print (f\"a = {A}\")\n"
      ],
      "metadata": {
        "colab": {
          "base_uri": "https://localhost:8080/"
        },
        "id": "q_5n_h_lNxb1",
        "outputId": "97441e27-c8c6-4784-9873-5274e9782bb9"
      },
      "execution_count": 12,
      "outputs": [
        {
          "output_type": "stream",
          "name": "stdout",
          "text": [
            "a = ['Vicy', 'Saragih', 'Sumbayak']\n"
          ]
        }
      ]
    },
    {
      "cell_type": "code",
      "source": [
        "B = A\n",
        "\n",
        "print(f\"b = {B}\")"
      ],
      "metadata": {
        "colab": {
          "base_uri": "https://localhost:8080/"
        },
        "id": "H7nT8Zk1OAwU",
        "outputId": "085a5cec-a65d-4e9f-8e46-3801b68b26d2"
      },
      "execution_count": 13,
      "outputs": [
        {
          "output_type": "stream",
          "name": "stdout",
          "text": [
            "b = ['Vicy', 'Saragih', 'Sumbayak']\n"
          ]
        }
      ]
    },
    {
      "cell_type": "code",
      "source": [
        "A[1] = \"Cordias\"\n",
        "print(f\"a = {A}\")\n",
        "print(f\"b = {B}\")"
      ],
      "metadata": {
        "colab": {
          "base_uri": "https://localhost:8080/"
        },
        "id": "5V9b6sfUOVkS",
        "outputId": "77ab476c-d4a0-4ddc-e783-b1979d02505a"
      },
      "execution_count": 15,
      "outputs": [
        {
          "output_type": "stream",
          "name": "stdout",
          "text": [
            "a = ['Vicy', 'Cordias', 'Sumbayak']\n",
            "b = ['Vicy', 'Cordias', 'Sumbayak']\n"
          ]
        }
      ]
    },
    {
      "cell_type": "code",
      "source": [
        "C = A.copy()  #Full duplikat\n",
        "print(f\"c = {C}\")\n",
        "\n",
        "C[1] = \"Afandy\"\n",
        "\n",
        "print(f\"c = {C}\")\n",
        "print(f\"a = {A}\")"
      ],
      "metadata": {
        "colab": {
          "base_uri": "https://localhost:8080/"
        },
        "id": "cpAsB1OdPqow",
        "outputId": "4e77d890-2250-4b4a-c7de-8d7603d63158"
      },
      "execution_count": 17,
      "outputs": [
        {
          "output_type": "stream",
          "name": "stdout",
          "text": [
            "c = ['Vicy', 'Cordias', 'Sumbayak']\n",
            "c = ['Vicy', 'Afandy', 'Sumbayak']\n",
            "a = ['Vicy', 'Cordias', 'Sumbayak']\n"
          ]
        }
      ]
    },
    {
      "cell_type": "code",
      "source": [
        "C.sort()  # Mengurutkan list\n",
        "print(f\"c = {C}\")\n",
        "print(f\"a = {A}\") # List A tidak berubah"
      ],
      "metadata": {
        "colab": {
          "base_uri": "https://localhost:8080/"
        },
        "id": "T0NFYrYIQTY3",
        "outputId": "e6af5479-3831-45d6-e336-dc6bbf057a4b"
      },
      "execution_count": 21,
      "outputs": [
        {
          "output_type": "stream",
          "name": "stdout",
          "text": [
            "c = ['Afandy', 'Sumbayak', 'Vicy']\n",
            "a = ['Vicy', 'Cordias', 'Sumbayak']\n"
          ]
        }
      ]
    },
    {
      "cell_type": "markdown",
      "source": [
        "**NESTED LIST**"
      ],
      "metadata": {
        "id": "9gP5-QzOQyjh"
      }
    },
    {
      "cell_type": "code",
      "source": [
        "data_0 = [4, 5]\n",
        "data_1 = [9, 8]\n",
        "\n",
        "list_biasa = [4, 5, 9, 8]\n",
        "print(f\" List biasa = {list_biasa}\")\n",
        "\n",
        "list_2D = [data_0, data_1]\n",
        "print(f\"\\nList di dalam list = {list_2D}\")"
      ],
      "metadata": {
        "colab": {
          "base_uri": "https://localhost:8080/"
        },
        "id": "XgsKWhGXQ1l8",
        "outputId": "14e4367d-09d7-4cf7-fa68-6b711ddfb991"
      },
      "execution_count": 25,
      "outputs": [
        {
          "output_type": "stream",
          "name": "stdout",
          "text": [
            " List biasa = [4, 5, 9, 8]\n",
            "\n",
            "List di dalam list = [[4, 5], [9, 8]]\n"
          ]
        }
      ]
    },
    {
      "cell_type": "code",
      "source": [
        "# Contoh penggunaan\n",
        "\n",
        "peserta_0 = [\"Vicy\", 25, \"Laki-laki\"]\n",
        "peserta_1 = [\"Afandy\", 24, \"Laki-laki\"]\n",
        "peserta_2= [\"Cordias\", 26, \"Laki-laki\"]\n",
        "\n",
        "list_peserta = [peserta_0, peserta_1, peserta_2]\n",
        "\n",
        "print(f\" List peserta = {list_peserta}\")"
      ],
      "metadata": {
        "colab": {
          "base_uri": "https://localhost:8080/"
        },
        "id": "HMaU-EkNRCpC",
        "outputId": "6d9022d8-e2fc-4a26-c8ea-8703e57372e4"
      },
      "execution_count": 28,
      "outputs": [
        {
          "output_type": "stream",
          "name": "stdout",
          "text": [
            " List peserta = [['Vicy', 25, 'Laki-laki'], ['Afandy', 24, 'Laki-laki'], ['Cordias', 26, 'Laki-laki']]\n"
          ]
        }
      ]
    },
    {
      "cell_type": "code",
      "source": [
        "for peserta in list_peserta:\n",
        "  print(f\"nama\\t: {peserta[0]}\")\n",
        "  print(f\"umur\\t: {peserta[1]}\")\n",
        "  print(f\"gender\\t: {peserta[2]}\\n\")"
      ],
      "metadata": {
        "colab": {
          "base_uri": "https://localhost:8080/"
        },
        "id": "cJ5Ydr96Sy95",
        "outputId": "49aeace1-7c8b-4dc9-a066-dca06fd0c44c"
      },
      "execution_count": 30,
      "outputs": [
        {
          "output_type": "stream",
          "name": "stdout",
          "text": [
            "nama\t: Vicy\n",
            "umur\t: 25\n",
            "gender\t: Laki-laki\n",
            "\n",
            "nama\t: Afandy\n",
            "umur\t: 24\n",
            "gender\t: Laki-laki\n",
            "\n",
            "nama\t: Cordias\n",
            "umur\t: 26\n",
            "gender\t: Laki-laki\n",
            "\n"
          ]
        }
      ]
    },
    {
      "cell_type": "code",
      "source": [
        "list_copy = list_peserta.copy()\n",
        "\n",
        "print(f\" List peserta = {list_copy}\")\n",
        "\n",
        "peserta_0[0] = \"saragih\"\n",
        "\n",
        "print(f\"\\nList peserta = {list_copy}\")\n",
        "print(f\"\\nList peserta = {list_peserta}\") #Di nested List ini tidak dapat hanya menggunakan copy()\n"
      ],
      "metadata": {
        "colab": {
          "base_uri": "https://localhost:8080/"
        },
        "id": "lrKbYOD3UD5d",
        "outputId": "ff5879cb-99fe-4c02-f4da-4b3c8d61b256"
      },
      "execution_count": 40,
      "outputs": [
        {
          "output_type": "stream",
          "name": "stdout",
          "text": [
            " List peserta = [['saragih', 25, 'Laki-laki'], ['Afandy', 24, 'Laki-laki'], ['Cordias', 26, 'Laki-laki']]\n",
            "\n",
            "List peserta = [['saragih', 25, 'Laki-laki'], ['Afandy', 24, 'Laki-laki'], ['Cordias', 26, 'Laki-laki']]\n",
            "\n",
            "List peserta = [['saragih', 25, 'Laki-laki'], ['Afandy', 24, 'Laki-laki'], ['Cordias', 26, 'Laki-laki']]\n"
          ]
        }
      ]
    },
    {
      "cell_type": "code",
      "source": [],
      "metadata": {
        "id": "Ai5DRRbqUhFR"
      },
      "execution_count": null,
      "outputs": []
    }
  ]
}