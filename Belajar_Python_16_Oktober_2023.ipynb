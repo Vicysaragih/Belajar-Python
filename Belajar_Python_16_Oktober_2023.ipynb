{
  "nbformat": 4,
  "nbformat_minor": 0,
  "metadata": {
    "colab": {
      "provenance": [],
      "authorship_tag": "ABX9TyOkfr/tuMF9z/RyjPyIC9B4",
      "include_colab_link": true
    },
    "kernelspec": {
      "name": "python3",
      "display_name": "Python 3"
    },
    "language_info": {
      "name": "python"
    }
  },
  "cells": [
    {
      "cell_type": "markdown",
      "metadata": {
        "id": "view-in-github",
        "colab_type": "text"
      },
      "source": [
        "<a href=\"https://colab.research.google.com/github/Vicysaragih/Belajar-Python/blob/main/Belajar_Python_16_Oktober_2023.ipynb\" target=\"_parent\"><img src=\"https://colab.research.google.com/assets/colab-badge.svg\" alt=\"Open In Colab\"/></a>"
      ]
    },
    {
      "cell_type": "code",
      "execution_count": 3,
      "metadata": {
        "colab": {
          "base_uri": "https://localhost:8080/"
        },
        "id": "Rga5PYEJDQ9f",
        "outputId": "d2a55a37-119e-4ba3-d164-b63c47144276"
      },
      "outputs": [
        {
          "output_type": "stream",
          "name": "stdout",
          "text": [
            "*\n",
            "**\n",
            "***\n",
            "****\n",
            "*****\n",
            "******\n"
          ]
        }
      ],
      "source": [
        "# Latihan Perulangan membuat Segitiga\n",
        "\n",
        "sisi = 6\n",
        "\n",
        "# Dummy Variable\n",
        "\n",
        "count = 1\n",
        "for i in range(sisi):\n",
        "  print(\"*\" * count)\n",
        "  count += 1\n"
      ]
    },
    {
      "cell_type": "code",
      "source": [
        "count = 1\n",
        "while True:\n",
        "  print(\"*\" * count)\n",
        "  count += 1\n",
        "\n",
        "  if count > sisi :\n",
        "    break"
      ],
      "metadata": {
        "colab": {
          "base_uri": "https://localhost:8080/"
        },
        "id": "h-yLfJ3GKIBa",
        "outputId": "bd38d9ae-cfd3-4d64-a284-f6bd630788dc"
      },
      "execution_count": 6,
      "outputs": [
        {
          "output_type": "stream",
          "name": "stdout",
          "text": [
            "*\n",
            "**\n",
            "***\n",
            "****\n",
            "*****\n",
            "******\n"
          ]
        }
      ]
    },
    {
      "cell_type": "code",
      "source": [
        "count = 1\n",
        "while True:\n",
        "    if count %2 :\n",
        "    count += 1\n",
        "    continue\n",
        "\n",
        "    print(\"*\" * count)\n",
        "  count += 1\n",
        "\n",
        "\n",
        "\n",
        "  if count > sisi :\n",
        "    break"
      ],
      "metadata": {
        "colab": {
          "base_uri": "https://localhost:8080/"
        },
        "id": "O6B9nfcOLdGH",
        "outputId": "1ae24e35-cc2d-4c25-e6bb-ec9119cec84b"
      },
      "execution_count": 9,
      "outputs": [
        {
          "output_type": "stream",
          "name": "stdout",
          "text": [
            "**\n",
            "****\n",
            "******\n"
          ]
        }
      ]
    },
    {
      "cell_type": "code",
      "source": [
        "count = 1\n",
        "while True:\n",
        "    if (count%2) :\n",
        "      # Print jika ganjil\n",
        "      print(\"*\" * count)\n",
        "      count += 1\n",
        "\n",
        "    else:\n",
        "      #akan kembali ketas jika genap\n",
        "      count += 1\n",
        "      continue\n",
        "\n",
        "\n",
        "    if count > sisi :\n",
        "      break"
      ],
      "metadata": {
        "colab": {
          "base_uri": "https://localhost:8080/"
        },
        "id": "LZHA715mM19u",
        "outputId": "63826a38-8c5d-4052-e58d-1b0401273de7"
      },
      "execution_count": 16,
      "outputs": [
        {
          "output_type": "stream",
          "name": "stdout",
          "text": [
            "*\n",
            "***\n",
            "*****\n",
            "*******\n"
          ]
        }
      ]
    },
    {
      "cell_type": "code",
      "source": [
        "# Segitiga sama kaki\n",
        "\n",
        "count = 1\n",
        "spasi = int(sisi/2)\n",
        "\n",
        "while True:\n",
        "    if (count%2) :\n",
        "      # Print jika ganjil\n",
        "      print(\" \"* spasi,\"+\" * count)\n",
        "      spasi -= 1\n",
        "      count += 1\n",
        "\n",
        "    else:\n",
        "      #akan kembali ketas jika genap\n",
        "      count += 1\n",
        "      continue\n",
        "\n",
        "\n",
        "    if count > sisi :\n",
        "      break"
      ],
      "metadata": {
        "colab": {
          "base_uri": "https://localhost:8080/"
        },
        "id": "CtFKTmebPPpp",
        "outputId": "2d1eec3a-5cb7-4810-dd81-7f567976d214"
      },
      "execution_count": 17,
      "outputs": [
        {
          "output_type": "stream",
          "name": "stdout",
          "text": [
            "    +\n",
            "   +++\n",
            "  +++++\n",
            " +++++++\n"
          ]
        }
      ]
    },
    {
      "cell_type": "markdown",
      "source": [],
      "metadata": {
        "id": "fULLTL_XW2iS"
      }
    },
    {
      "cell_type": "markdown",
      "source": [
        "**LIST**"
      ],
      "metadata": {
        "id": "eLauQvrUW5JH"
      }
    },
    {
      "cell_type": "code",
      "source": [
        "# Kumpulan data numbers\n",
        "\n",
        "data_angka = [1, 2, 3]\n",
        "print(data_angka)"
      ],
      "metadata": {
        "colab": {
          "base_uri": "https://localhost:8080/"
        },
        "id": "5zpAs0N8W107",
        "outputId": "2d74657b-5efc-4abd-c8fd-046a651ee941"
      },
      "execution_count": 18,
      "outputs": [
        {
          "output_type": "stream",
          "name": "stdout",
          "text": [
            "[1, 2, 3]\n"
          ]
        }
      ]
    },
    {
      "cell_type": "code",
      "source": [
        "# Membuat list dengan For loop\n",
        "\n",
        "list_pake_for = [i for i in range(0, 10)]\n",
        "print(list_pake_for)"
      ],
      "metadata": {
        "colab": {
          "base_uri": "https://localhost:8080/"
        },
        "id": "9Qdu80drNZw8",
        "outputId": "2ccc6b52-59fc-4911-fa06-dc34b6bd8561"
      },
      "execution_count": 19,
      "outputs": [
        {
          "output_type": "stream",
          "name": "stdout",
          "text": [
            "[0, 1, 2, 3, 4, 5, 6, 7, 8, 9]\n"
          ]
        }
      ]
    },
    {
      "cell_type": "code",
      "source": [
        "list_pake_for = [i**2 for i in range(0, 10)] # nilai di kuadratkan\n",
        "print(list_pake_for)"
      ],
      "metadata": {
        "colab": {
          "base_uri": "https://localhost:8080/"
        },
        "id": "4OC3_JRxY3Gr",
        "outputId": "e8c947b2-5b15-4f89-fd9a-2ae692208ab7"
      },
      "execution_count": 20,
      "outputs": [
        {
          "output_type": "stream",
          "name": "stdout",
          "text": [
            "[0, 1, 4, 9, 16, 25, 36, 49, 64, 81]\n"
          ]
        }
      ]
    },
    {
      "cell_type": "code",
      "source": [
        " # Membuat list menggunakan For dan If\n",
        "\n",
        " list_pake_for_if = [i for i in range(0, 10) if i !=5] # nilai di kuadratkan\n",
        " print(list_pake_for_if)"
      ],
      "metadata": {
        "colab": {
          "base_uri": "https://localhost:8080/"
        },
        "id": "krmagxvvZVym",
        "outputId": "29950050-40c9-49f3-d8f3-db3f378d035c"
      },
      "execution_count": 21,
      "outputs": [
        {
          "output_type": "stream",
          "name": "stdout",
          "text": [
            "[0, 1, 2, 3, 4, 6, 7, 8, 9]\n"
          ]
        }
      ]
    }
  ]
}